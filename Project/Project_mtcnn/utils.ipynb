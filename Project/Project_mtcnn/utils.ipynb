{
 "cells": [
  {
   "cell_type": "code",
   "execution_count": 1,
   "metadata": {},
   "outputs": [],
   "source": [
    "import numpy as np"
   ]
  },
  {
   "cell_type": "code",
   "execution_count": 52,
   "metadata": {},
   "outputs": [],
   "source": [
    "def Iou(box, boxes):\n",
    "    \n",
    "    box_area = box[2] * box[3]\n",
    "    area = boxes[:, 2] * boxes[:, 3]\n",
    "    \n",
    "    w_min = np.where(box[0] < boxes[:, 0], box[2], boxes[:, 2])\n",
    "    h_min = np.where(box[1] < boxes[:, 1], box[3], boxes[:, 3])\n",
    "    w = w_min - np.abs(box[0] - boxes[:, 0])\n",
    "    h = h_min - np.abs(box[1] - boxes[:, 1])\n",
    "    \n",
    "    w = np.where(w < 0, 0, w)\n",
    "    h = np.where(h < 0, 0, h)\n",
    "    \n",
    "    inter = w * h\n",
    "    ovr = np.true_divide(inter, (box_area + area - inter))\n",
    "    \n",
    "    return ovr"
   ]
  },
  {
   "cell_type": "code",
   "execution_count": 53,
   "metadata": {},
   "outputs": [],
   "source": [
    "boxes = np.array(\n",
    "[[ 69,359 ,50  ,36],\n",
    " [227, 382 , 56 , 43],\n",
    " [296, 305,  44 , 26],\n",
    " [353, 280 , 40 , 36],\n",
    " [885 ,377  ,63 , 41],\n",
    " [819 ,391  ,34 , 43],\n",
    " [727 ,342  ,37  ,31],\n",
    " [598 ,246 , 33 , 29],\n",
    " [740, 308  ,45,  33]])\n",
    "box =  [885 ,377 , 63 , 41]"
   ]
  },
  {
   "cell_type": "code",
   "execution_count": 54,
   "metadata": {},
   "outputs": [
    {
     "name": "stdout",
     "output_type": "stream",
     "text": [
      "[18 36  0  0 41 27  0  0  0]\n"
     ]
    }
   ],
   "source": [
    "o = Iou(box, boxes)"
   ]
  },
  {
   "cell_type": "code",
   "execution_count": 56,
   "metadata": {},
   "outputs": [],
   "source": [
    "b = np.array(box)"
   ]
  },
  {
   "cell_type": "code",
   "execution_count": 63,
   "metadata": {},
   "outputs": [
    {
     "data": {
      "text/plain": [
       "array([[ 0,  1,  2,  3],\n",
       "       [ 4,  5,  6,  7],\n",
       "       [ 8,  9, 10, 11]])"
      ]
     },
     "execution_count": 63,
     "metadata": {},
     "output_type": "execute_result"
    }
   ],
   "source": [
    "landmark_ = np.arange(12).reshape(-1, 4)\n",
    "landmark_"
   ]
  },
  {
   "cell_type": "code",
   "execution_count": 64,
   "metadata": {},
   "outputs": [],
   "source": [
    "landmark_[[0, 1]] = landmark_[[1, 0]]"
   ]
  },
  {
   "cell_type": "code",
   "execution_count": 70,
   "metadata": {},
   "outputs": [
    {
     "data": {
      "text/plain": [
       "array([4, 5, 6, 7])"
      ]
     },
     "execution_count": 70,
     "metadata": {},
     "output_type": "execute_result"
    }
   ],
   "source": [
    "landmark_[0, :]"
   ]
  },
  {
   "cell_type": "code",
   "execution_count": null,
   "metadata": {},
   "outputs": [],
   "source": []
  }
 ],
 "metadata": {
  "kernelspec": {
   "display_name": "Python 3",
   "language": "python",
   "name": "python3"
  },
  "language_info": {
   "codemirror_mode": {
    "name": "ipython",
    "version": 3
   },
   "file_extension": ".py",
   "mimetype": "text/x-python",
   "name": "python",
   "nbconvert_exporter": "python",
   "pygments_lexer": "ipython3",
   "version": "3.7.4"
  }
 },
 "nbformat": 4,
 "nbformat_minor": 4
}

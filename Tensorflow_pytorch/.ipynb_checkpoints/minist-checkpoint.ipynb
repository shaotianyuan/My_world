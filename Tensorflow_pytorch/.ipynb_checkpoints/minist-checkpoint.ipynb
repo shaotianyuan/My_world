{
 "cells": [
  {
   "cell_type": "code",
   "execution_count": null,
   "metadata": {},
   "outputs": [],
   "source": [
    "GPU\n",
    "课程链接https://modelarts2.gaoxiaobang.com/#/courses/detail/36894\n",
    "账号：kkb_cv_b_129@test.com\n",
    "初始密码:123456\n",
    "（密码为初始密码，建议更改密码，但不建议太复杂。后期不支持找回，所以一定要牢记密码哦[爱心]）"
   ]
  },
  {
   "cell_type": "code",
   "execution_count": 104,
   "metadata": {},
   "outputs": [],
   "source": [
    "import torch\n",
    "import torch.nn as nn\n",
    "import torch.utils.data as Data\n",
    "import torchvision\n",
    "import matplotlib.pyplot as plt"
   ]
  },
  {
   "cell_type": "code",
   "execution_count": 173,
   "metadata": {},
   "outputs": [],
   "source": [
    "# Hyper Parameters\n",
    "\n",
    "EPOCH = 1\n",
    "BATCH_SIZE = 40\n",
    "LR = 0.0005\n",
    "DOWNLOAD_MNIST = False\n",
    "\n",
    "train_data = torchvision.datasets.MNIST(\n",
    "    root='./mnist/',\n",
    "    train=True,\n",
    "    transform=torchvision.transforms.ToTensor(),\n",
    "    download=DOWNLOAD_MNIST\n",
    ")\n",
    "test_data = torchvision.datasets.MNIST(root='./mnist', train=False)"
   ]
  },
  {
   "cell_type": "code",
   "execution_count": 174,
   "metadata": {},
   "outputs": [],
   "source": [
    "train_loader = Data.DataLoader(dataset=train_data, batch_size=BATCH_SIZE, shuffle=True)\n",
    "\n",
    "test_x = torch.unsqueeze(test_data.data, dim=1).type(torch.FloatTensor) / 255.\n",
    "test_y = test_data.targets"
   ]
  },
  {
   "cell_type": "code",
   "execution_count": 175,
   "metadata": {},
   "outputs": [
    {
     "data": {
      "image/png": "[encoded data removed]",
      "text/plain": [
       "<Figure size 432x288 with 1 Axes>"
      ]
     },
     "metadata": {
      "needs_background": "light"
     },
     "output_type": "display_data"
    },
    {
     "data": {
      "text/plain": [
       "1500"
      ]
     },
     "execution_count": 175,
     "metadata": {},
     "output_type": "execute_result"
    }
   ],
   "source": [
    "import matplotlib.pyplot as plt\n",
    "import numpy as np\n",
    "\n",
    "def imshow(img):\n",
    "#    img = img / 2 + 0.5\n",
    "    npimg = img.numpy()\n",
    "    plt.imshow(np.transpose(npimg,(1, 2, 0)))\n",
    "    plt.show()\n",
    "\n",
    "dataiter = iter(train_loader)\n",
    "images, labels = dataiter.next()\n",
    "\n",
    "imshow(torchvision.utils.make_grid(images))\n",
    "# print(labels.numpy().reshape(-1, 8))\n",
    "\n",
    "len(dataiter)"
   ]
  },
  {
   "cell_type": "code",
   "execution_count": 176,
   "metadata": {},
   "outputs": [],
   "source": [
    "class CNN(nn.Module):\n",
    "    def __init__(self):\n",
    "        super(CNN, self).__init__()\n",
    "        self.conv1 = nn.Sequential(\n",
    "            nn.Conv2d(in_channels=1, out_channels=16, kernel_size=5, stride=1, padding=2),\n",
    "            nn.ReLU(),\n",
    "            nn.MaxPool2d(kernel_size=2)\n",
    "        )\n",
    "        self.conv2 = nn.Sequential(\n",
    "            nn.Conv2d(16, 32, 5, 1, 2),\n",
    "            nn.ReLU(),\n",
    "            nn.MaxPool2d(2)\n",
    "        )\n",
    "        self.out = nn.Linear(32 * 7 * 7, 10)\n",
    "    \n",
    "\n",
    "    def forward(self, x):\n",
    "        \"\"\"\n",
    "        x: torch.Size([40, 1, 28, 28])\n",
    "        xconv1:torch.Size([40, 16, 14, 14])\n",
    "        xconv2:torch.Size([40, 32, 7, 7])\n",
    "        xfc:torch.Size([40, 1568])\n",
    "        res:torch.Size([40, 10])\n",
    "        \"\"\"\n",
    "        x = self.conv1(x)\n",
    "        x = self.conv2(x)\n",
    "        x = x.view(x.size(0), -1)\n",
    "        output = self.out(x)\n",
    "        \n",
    "        return output"
   ]
  },
  {
   "cell_type": "code",
   "execution_count": 177,
   "metadata": {},
   "outputs": [],
   "source": [
    "cnn = CNN()\n",
    "optimizer = torch.optim.Adam(cnn.parameters(), lr=LR)\n",
    "loss_func = nn.CrossEntropyLoss()"
   ]
  },
  {
   "cell_type": "markdown",
   "metadata": {},
   "source": [
    "### Training"
   ]
  },
  {
   "cell_type": "code",
   "execution_count": 178,
   "metadata": {},
   "outputs": [
    {
     "name": "stdout",
     "output_type": "stream",
     "text": [
      "e:0, i:99, loss:0.42102617025375366\n",
      "e:0, i:199, loss:0.3732929527759552\n",
      "e:0, i:299, loss:0.418321430683136\n",
      "e:0, i:399, loss:0.2466396540403366\n",
      "e:0, i:499, loss:0.11125858873128891\n",
      "e:0, i:599, loss:0.19431468844413757\n",
      "e:0, i:699, loss:0.09330533444881439\n",
      "e:0, i:799, loss:0.10792955011129379\n",
      "e:0, i:899, loss:0.028461912646889687\n",
      "e:0, i:999, loss:0.03193756565451622\n",
      "e:0, i:1099, loss:0.28291547298431396\n",
      "e:0, i:1199, loss:0.02648814581334591\n",
      "e:0, i:1299, loss:0.1307034194469452\n",
      "e:0, i:1399, loss:0.06095770001411438\n",
      "e:0, i:1499, loss:0.11939062923192978\n",
      "Epoch:0 , train loss: 0.11939062923192978, test accuracy: 0.9799\n"
     ]
    }
   ],
   "source": [
    "for epoch in range(EPOCH):\n",
    "    for step, (b_x, b_y) in enumerate(train_loader):\n",
    "        output = cnn(b_x)\n",
    "        loss = loss_func(output, b_y)\n",
    "        optimizer.zero_grad()\n",
    "        loss.backward()\n",
    "        optimizer.step()\n",
    "        if step % 100 == 99:\n",
    "            print(f'e:{epoch}, i:{step}, loss:{loss}')\n",
    "    \n",
    "    test_output = cnn(test_x)\n",
    "    pred_y = torch.max(test_output, 1)[1].numpy()\n",
    "    accuracy = (pred_y == test_y.numpy()).sum() / test_y.size(0)\n",
    "    print(f'Epoch:{epoch} , train loss: {loss.item()}, test accuracy: {accuracy}')\n",
    "        \n",
    "    "
   ]
  },
  {
   "cell_type": "code",
   "execution_count": 183,
   "metadata": {},
   "outputs": [],
   "source": [
    "# 保存模型\n",
    "\n",
    "torch.save(cnn, './mnist/n_net.pkl')"
   ]
  },
  {
   "cell_type": "code",
   "execution_count": 184,
   "metadata": {},
   "outputs": [],
   "source": [
    "torch.save(cnn.state_dict(), './mnist/n_net_param.pkl')"
   ]
  },
  {
   "cell_type": "code",
   "execution_count": 185,
   "metadata": {},
   "outputs": [],
   "source": [
    "# 提取模型\n",
    "\n",
    "net = torch.load('./mnist/n_net.pkl')"
   ]
  },
  {
   "cell_type": "code",
   "execution_count": 186,
   "metadata": {},
   "outputs": [],
   "source": [
    "net1 = CNN()\n",
    "net1 = net1.load_state_dict(torch.load('./mnist/n_net_param.pkl'))"
   ]
  }
 ],
 "metadata": {
  "kernelspec": {
   "display_name": "Python 3",
   "language": "python",
   "name": "python3"
  },
  "language_info": {
   "codemirror_mode": {
    "name": "ipython",
    "version": 3
   },
   "file_extension": ".py",
   "mimetype": "text/x-python",
   "name": "python",
   "nbconvert_exporter": "python",
   "pygments_lexer": "ipython3",
   "version": "3.7.4"
  }
 },
 "nbformat": 4,
 "nbformat_minor": 4
}

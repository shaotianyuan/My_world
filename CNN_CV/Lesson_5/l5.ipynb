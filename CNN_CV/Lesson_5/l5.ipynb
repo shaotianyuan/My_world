{
 "cells": [
  {
   "cell_type": "markdown",
   "metadata": {},
   "source": [
    "# 正则化\n",
    "\n",
    "### L1正则化与L2正则化的区别\n",
    "\n",
    "1，L1正则化，会使某些参数为0，有吸收性，带来特征的选择，L2不会  \n",
    "2，图中L1是正方形，L2是圆形  \n",
    "3，L1绝对值、L2平方  \n",
    "4，L1可以做参数的选择"
   ]
  },
  {
   "cell_type": "markdown",
   "metadata": {},
   "source": [
    "# 支持向量机\n",
    "\n",
    "1，找到两个支持向量，距离超平面距离最远  \n",
    "2，不可分：升维，核方法（一般选择高斯核）  \n",
    "软方法、硬方法（核函数选择）  \n",
    "n：特征数量， m：样本数量  \n",
    "1，n~ & n > m ：逻辑回归、 没有核SVM  \n",
    "2，n_, m-: SVM with kernel  \n",
    "3，n_, m~: add more features  \n",
    "4，SVM not so good for large of samples  \n",
    "5，NN can handle Always  \n",
    "\n",
    "优点：  \n",
    "1，中小样本  \n",
    "2，可解释性强  \n",
    "\n",
    "缺点：  \n",
    "1，计算复杂度高    \n",
    "2，需要调节核  \n",
    "\n",
    "顺口溜：  \n",
    "1，高维用线性  \n",
    "2，低维试线性  \n",
    "3，不行用高斯  \n",
    "\n",
    "在SVM中正则系数：  \n",
    "1，C大过拟合  \n",
    "2，C小欠拟合  \n"
   ]
  },
  {
   "cell_type": "markdown",
   "metadata": {},
   "source": [
    "# softmax\n",
    "\n",
    "1，分数矩阵进来， e的幂操作  \n",
    "2，归一化， 除以 所有分数e的幂的和  \n",
    "3，求损失值， loss = -log（x）x为正确类别  \n",
    "4，偏移：第一步作偏移 每个数据减去矩阵最大项  "
   ]
  },
  {
   "cell_type": "code",
   "execution_count": 2,
   "metadata": {
    "pycharm": {
     "is_executing": false
    }
   },
   "outputs": [],
   "source": [
    "import numpy as np"
   ]
  },
  {
   "cell_type": "code",
   "execution_count": 3,
   "metadata": {
    "pycharm": {
     "is_executing": false
    }
   },
   "outputs": [],
   "source": [
    "def softmax(x):\n",
    "    exps = np.exp(x)\n",
    "    return np.exp(x) / np.sum(exps)"
   ]
  },
  {
   "cell_type": "code",
   "execution_count": 4,
   "metadata": {
    "pycharm": {
     "is_executing": false
    }
   },
   "outputs": [
    {
     "data": {
      "text/plain": [
       "array([0.09003057, 0.24472847, 0.66524096])"
      ]
     },
     "execution_count": 4,
     "metadata": {},
     "output_type": "execute_result"
    }
   ],
   "source": [
    "softmax(np.array([2,3,4]))"
   ]
  },
  {
   "cell_type": "code",
   "execution_count": 6,
   "metadata": {
    "pycharm": {
     "is_executing": false
    }
   },
   "outputs": [],
   "source": [
    "def real_softmax(x):\n",
    "    shift_x = x - np.max(x) # 减去一个偏移值\n",
    "    return softmax(shift_x)"
   ]
  },
  {
   "cell_type": "code",
   "execution_count": 12,
   "metadata": {
    "pycharm": {
     "is_executing": false
    }
   },
   "outputs": [
    {
     "data": {
      "text/plain": [
       "array([0.09003057, 0.24472847, 0.66524096])"
      ]
     },
     "execution_count": 12,
     "metadata": {},
     "output_type": "execute_result"
    }
   ],
   "source": [
    "real_softmax(np.array([2,3,4]))"
   ]
  },
  {
   "cell_type": "code",
   "execution_count": 13,
   "metadata": {
    "pycharm": {
     "is_executing": false
    }
   },
   "outputs": [
    {
     "data": {
      "text/plain": [
       "array([0.00000000e+000, 4.81749166e-144, 1.00000000e+000])"
      ]
     },
     "execution_count": 13,
     "metadata": {},
     "output_type": "execute_result"
    }
   ],
   "source": [
    "real_softmax(np.array([1000,2000,2330]))\n",
    "\n"
   ]
  },
  {
   "cell_type": "markdown",
   "metadata": {
    "pycharm": {
     "name": "#%%\n"
    }
   },
   "source": [
    "# 无监督学习\n",
    "\n",
    "\n",
    "1，聚类  \n",
    "2，降维\n",
    " \n",
    "### K-Means  \n",
    "1，先选择2个初始点  \n",
    "2，点到初始点到距离近的归类初试点类  \n",
    "3，移动初试点  \n",
    "4，在重复2，3步骤，直到初始点不再移动  "
   ]
  },
  {
   "cell_type": "markdown",
   "metadata": {},
   "source": [
    "### kNN k近邻 （监督学习）\n",
    "1，没有模型，抄袭现有的数据点，最相近点数据点  \n",
    "2，k参数：最相近点k个点的标签值投票决定预测点的标签\n"
   ]
  },
  {
   "cell_type": "markdown",
   "metadata": {
    "pycharm": {
     "name": "#%% md\n"
    }
   },
   "source": [
    "# 过拟合 欠拟合\n",
    "\n",
    "偏差(Bias)：训练模型的预测情况  \n",
    "方差(Variance)：新数据的预测情况\n",
    "\n",
    "画图：  \n",
    "1，error/ 复杂度   \n",
    "2，error/ 正则系数\n",
    "\n",
    "\n"
   ]
  }
 ],
 "metadata": {
  "kernelspec": {
   "display_name": "PyCharm (untitled8)",
   "language": "python",
   "name": "pycharm-25c6eaff"
  },
  "language_info": {
   "codemirror_mode": {
    "name": "ipython",
    "version": 3
   },
   "file_extension": ".py",
   "mimetype": "text/x-python",
   "name": "python",
   "nbconvert_exporter": "python",
   "pygments_lexer": "ipython3",
   "version": "3.7.4"
  },
  "pycharm": {
   "stem_cell": {
    "cell_type": "raw",
    "source": [],
    "metadata": {
     "collapsed": false
    }
   }
  }
 },
 "nbformat": 4,
 "nbformat_minor": 2
}
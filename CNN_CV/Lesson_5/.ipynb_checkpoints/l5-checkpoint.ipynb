{
 "cells": [
  {
   "cell_type": "markdown",
   "metadata": {},
   "source": [
    "# 正则化\n",
    "\n",
    "### L1正则化与L2正则化的区别\n",
    "\n",
    "1，L1正则化，会使某些参数为0，有吸收性，带来特征的选择，L2不会  \n",
    "2，图中L1是正方形，L2是圆形  \n",
    "3，L1绝对值、L2平方  \n",
    "4，L1可以做参数的选择"
   ]
  },
  {
   "cell_type": "markdown",
   "metadata": {},
   "source": [
    "# 支持向量机\n",
    "\n",
    "1，找到两个支持向量，距离超平面距离最远  \n",
    "2，不可分：升维，核方法（一般选择高斯核）  \n",
    "软方法、硬方法（核函数选择）  \n",
    "n：特征数量， m：样本数量  \n",
    "1，n~ & n > m ：逻辑回归、 没有核SVM  \n",
    "2，n_, m-: SVM with kernel  \n",
    "3，n_, m~: add more features  \n",
    "4，SVM not so good for large of samples  \n",
    "5，NN can handle Always  \n",
    "\n",
    "优点：  \n",
    "1，中小样本  \n",
    "2，可解释性强  \n",
    "\n",
    "缺点：  \n",
    "1，计算复杂度高    \n",
    "2，需要调节核  \n",
    "\n",
    "顺口溜：  \n",
    "1，高维用线性  \n",
    "2，低维试线性  \n",
    "3，不行用高斯  \n"
   ]
  },
  {
   "cell_type": "markdown",
   "metadata": {},
   "source": [
    "# softmax\n"
   ]
  },
  {
   "cell_type": "code",
   "execution_count": 2,
   "metadata": {},
   "outputs": [],
   "source": [
    "import numpy as np"
   ]
  },
  {
   "cell_type": "code",
   "execution_count": 3,
   "metadata": {},
   "outputs": [],
   "source": [
    "def softmax(x):\n",
    "    exps = np.exp(x)\n",
    "    return np.exp(x) / np.sum(exps)"
   ]
  },
  {
   "cell_type": "code",
   "execution_count": 6,
   "metadata": {},
   "outputs": [
    {
     "data": {
      "text/plain": [
       "array([0.09003057, 0.24472847, 0.66524096])"
      ]
     },
     "execution_count": 6,
     "metadata": {},
     "output_type": "execute_result"
    }
   ],
   "source": [
    "softmax(np.array([2,3,4]))"
   ]
  },
  {
   "cell_type": "code",
   "execution_count": 9,
   "metadata": {},
   "outputs": [],
   "source": [
    "def real_softmax(x):\n",
    "    shift_x = x - np.max(x) # 减去一个偏移值\n",
    "    return softmax(shift_x)"
   ]
  },
  {
   "cell_type": "code",
   "execution_count": 10,
   "metadata": {},
   "outputs": [
    {
     "data": {
      "text/plain": [
       "array([0.09003057, 0.24472847, 0.66524096])"
      ]
     },
     "execution_count": 10,
     "metadata": {},
     "output_type": "execute_result"
    }
   ],
   "source": [
    "real_softmax(np.array([2,3,4]))"
   ]
  },
  {
   "cell_type": "code",
   "execution_count": null,
   "metadata": {},
   "outputs": [],
   "source": []
  }
 ],
 "metadata": {
  "kernelspec": {
   "display_name": "Python 3",
   "language": "python",
   "name": "python3"
  },
  "language_info": {
   "codemirror_mode": {
    "name": "ipython",
    "version": 3
   },
   "file_extension": ".py",
   "mimetype": "text/x-python",
   "name": "python",
   "nbconvert_exporter": "python",
   "pygments_lexer": "ipython3",
   "version": "3.7.4"
  }
 },
 "nbformat": 4,
 "nbformat_minor": 2
}
